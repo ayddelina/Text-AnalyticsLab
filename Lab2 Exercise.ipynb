{
 "cells": [
  {
   "cell_type": "markdown",
   "id": "f6c08127-d440-4d8a-b662-0cecfebd766f",
   "metadata": {},
   "source": [
    "# Lab 2 - Regular Expression"
   ]
  },
  {
   "cell_type": "code",
   "execution_count": 6,
   "id": "30e46cfe-7066-4396-8c9b-dca1732c792c",
   "metadata": {},
   "outputs": [],
   "source": [
    "#importing regular expression library\n",
    "import re"
   ]
  },
  {
   "cell_type": "markdown",
   "id": "ec000e1a-03ae-4ff9-afa3-610e42223ac1",
   "metadata": {},
   "source": [
    "## EXERCISE"
   ]
  },
  {
   "cell_type": "markdown",
   "id": "50e89e85-8fcb-4c64-a74c-54c76261b623",
   "metadata": {},
   "source": [
    "### 1. Write a Python program that extracts all digits from the following text."
   ]
  },
  {
   "cell_type": "code",
   "execution_count": 10,
   "id": "6970b78b-3f6d-4389-b868-70f23c05a670",
   "metadata": {},
   "outputs": [
    {
     "name": "stdout",
     "output_type": "stream",
     "text": [
      "Digits found: ['2', '4', '5', '6', '7', '8', '9', '3', '4', '1', '2', '3', '0']\n"
     ]
    }
   ],
   "source": [
    "import re \n",
    "\n",
    "text = \"Order number: 24567, Tracking ID: 8934A12, Quantity: 30\" \n",
    "# Write your regular expression here \n",
    "pattern = r\"\\d\" \n",
    "\n",
    "matches = re.findall(pattern, text) \n",
    "print(\"Digits found:\", matches) "
   ]
  },
  {
   "cell_type": "markdown",
   "id": "7c917b08-7a12-4962-88f5-6b611877fed3",
   "metadata": {},
   "source": [
    "### 2. Extract all non-alphanumeric characters (spaces, punctuation, etc) from the text."
   ]
  },
  {
   "cell_type": "code",
   "execution_count": 17,
   "id": "22a9bd6f-452d-426c-b2e5-01c4de1d71c2",
   "metadata": {},
   "outputs": [
    {
     "name": "stdout",
     "output_type": "stream",
     "text": [
      "Non-alphanumeric characters: ['!', ' ', \"'\", ' ', ' ', ' ', '?', ' ', ' ', ' ', '@', ' ', '.']\n"
     ]
    }
   ],
   "source": [
    "text = \"Welcome! How's your day going? Call me @ 3pm.\" \n",
    "pattern = r\"\\W\" \n",
    "\n",
    "matches = re.findall(pattern, text) \n",
    "print(\"Non-alphanumeric characters:\", matches) "
   ]
  },
  {
   "cell_type": "markdown",
   "id": "18df0719-758d-4106-9379-fe327f87c195",
   "metadata": {},
   "source": [
    "### 3. Split the text at commas and periods."
   ]
  },
  {
   "cell_type": "code",
   "execution_count": 39,
   "id": "6370932f-14f7-41b2-97de-dd5a9da672c5",
   "metadata": {},
   "outputs": [
    {
     "name": "stdout",
     "output_type": "stream",
     "text": [
      "Split text: ['Data Science', ' AI', ' and Machine Learning', ' These fields are growing fast', '']\n"
     ]
    }
   ],
   "source": [
    "text = \"Data Science, AI, and Machine Learning. These fields are growing fast.\" \n",
    "pattern =  r'[,.]' \n",
    "\n",
    "split_text = re.split(pattern, text) \n",
    "print(\"Split text:\", split_text) "
   ]
  },
  {
   "cell_type": "markdown",
   "id": "0f9845b4-1952-4ebb-9f30-c33b858dc5ba",
   "metadata": {},
   "source": [
    "### 4. Replace email addresses with [HIDDEN]"
   ]
  },
  {
   "cell_type": "code",
   "execution_count": 78,
   "id": "493a3bff-1da6-4494-8591-d7f7e7da52df",
   "metadata": {},
   "outputs": [
    {
     "name": "stdout",
     "output_type": "stream",
     "text": [
      "Anonymized text: Contact us at support@example.com or info@company.org\n"
     ]
    }
   ],
   "source": [
    "text = \"Contact us at support@example.com or info@company.org\" \n",
    "pattern = r'S+'\n",
    "\n",
    "new_text = re.sub(pattern, \"[HIDDEN]\", text) \n",
    "print(\"Anonymized text:\", new_text) "
   ]
  },
  {
   "cell_type": "markdown",
   "id": "c85465d0-d029-4f1f-a037-ca35fcfa5288",
   "metadata": {},
   "source": [
    "### 5. Extract only the domain types (e.g., com, org, edu) from email address"
   ]
  },
  {
   "cell_type": "code",
   "execution_count": 68,
   "id": "e0cfe8b9-77a2-4149-9440-c7351847efc7",
   "metadata": {},
   "outputs": [
    {
     "name": "stdout",
     "output_type": "stream",
     "text": [
      "Domain types: ['com', 'edu', 'org']\n"
     ]
    }
   ],
   "source": [
    "text = \"Emails: user@gmail.com, admin@university.edu, info@company.org\" \n",
    "pattern = r'@\\w+.(\\w+.\\w+)'\n",
    "\n",
    "matches = re.findall(pattern, text) \n",
    "print(\"Domain types:\", matches) "
   ]
  },
  {
   "cell_type": "code",
   "execution_count": null,
   "id": "77c76373-71b0-42f1-a1ed-56243b4a10fa",
   "metadata": {},
   "outputs": [],
   "source": [
    "\n"
   ]
  }
 ],
 "metadata": {
  "kernelspec": {
   "display_name": "Python 3 (ipykernel)",
   "language": "python",
   "name": "python3"
  },
  "language_info": {
   "codemirror_mode": {
    "name": "ipython",
    "version": 3
   },
   "file_extension": ".py",
   "mimetype": "text/x-python",
   "name": "python",
   "nbconvert_exporter": "python",
   "pygments_lexer": "ipython3",
   "version": "3.12.4"
  }
 },
 "nbformat": 4,
 "nbformat_minor": 5
}
